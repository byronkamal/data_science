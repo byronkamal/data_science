{
  "nbformat": 4,
  "nbformat_minor": 0,
  "metadata": {
    "colab": {
      "name": "Untitled0.ipynb",
      "provenance": [],
      "toc_visible": true,
      "authorship_tag": "ABX9TyPDCf1smPEonSlYmiXV06ZH",
      "include_colab_link": true
    },
    "kernelspec": {
      "name": "python3",
      "display_name": "Python 3"
    }
  },
  "cells": [
    {
      "cell_type": "markdown",
      "metadata": {
        "id": "view-in-github",
        "colab_type": "text"
      },
      "source": [
        "<a href=\"https://colab.research.google.com/github/byronkamal/data_science/blob/master/Titanic/titanic.ipynb\" target=\"_parent\"><img src=\"https://colab.research.google.com/assets/colab-badge.svg\" alt=\"Open In Colab\"/></a>"
      ]
    },
    {
      "cell_type": "markdown",
      "metadata": {
        "id": "kE5mfrcHLdWU",
        "colab_type": "text"
      },
      "source": [
        "**Checklist**\n",
        "1. Definição do Problema\n",
        "2. Obtenção dos Dados\n",
        "3. Exploração dos Dados\n",
        "4. Preparação dos Dados\n",
        "5. Construção do Modelo\n",
        "6. Avaliação"
      ]
    },
    {
      "cell_type": "markdown",
      "metadata": {
        "id": "hn0s8h26VDXH",
        "colab_type": "text"
      },
      "source": [
        "## 1. Definição do problema\n"
      ]
    },
    {
      "cell_type": "markdown",
      "metadata": {
        "id": "ayV3UFkTVD3t",
        "colab_type": "text"
      },
      "source": [
        "## 2. Obtenção dos dados\n",
        "[Os dados são disponilizados pelo Kaggle](https://www.kaggle.com/c/titanic/data) foram divididos em 2 grupos: \n",
        "- <p align='justify'>Dados de treinamento <i>(train.csv)</i>: essa dados servem para construir o modelo de machine learning. Nesse dataset há features sobre os passageiros e é informado se ele sobreviveu ou não.</p>\n",
        "- <p align='justify'>Dados de teste <i>(test.csv)</i>: nesse dataset há dados que não foram \"vistos\" pelo modelo de machine learning e é em cima deles que a predição é feita avaliação do modelo. Aqui **não** é informado se o passageiro sobreviveu ou não.</p>\n",
        "\n",
        "<p align='justify'>Para facilitar, os dados já estão disponíveis nessa mesma pasta do notebook.</p>"
      ]
    },
    {
      "cell_type": "code",
      "metadata": {
        "id": "7-hWBZ-yQzMK",
        "colab_type": "code",
        "outputId": "8fdd18dc-4d9f-4d7b-a409-68fe3258d3ae",
        "colab": {
          "base_uri": "https://localhost:8080/",
          "height": 52
        }
      },
      "source": [
        "# importar os pacotes\n",
        "import pandas as pd\n",
        "import numpy as np\n",
        "import matplotlib.pyplot as plt\n",
        "import seaborn as sns\n",
        "\n",
        "# permitir visualizar todas as colunas\n",
        "pd.options.display.max_columns = None\n",
        "\n",
        "# renderizar os gráficos no notebook\n",
        "# %matplotlib inline\n",
        "\n",
        "train = pd.read_csv('train.csv')\n",
        "test = pd.read_csv('test.csv')\n",
        "\n",
        "\n",
        "# verificando as dimensões do DataFrame\n",
        "print(\"Variáveis(colunas):\\t{}\\nEntradas(linhas):\\t{}\".format(train.shape[1], train.shape[0]))"
      ],
      "execution_count": 0,
      "outputs": [
        {
          "output_type": "stream",
          "text": [
            "Variáveis(colunas):\t12\n",
            "Entradas(linhas):\t891\n"
          ],
          "name": "stdout"
        }
      ]
    }
  ]
}
