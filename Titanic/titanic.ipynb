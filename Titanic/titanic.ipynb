{
 "cells": [
  {
   "cell_type": "markdown",
   "metadata": {
    "colab_type": "text",
    "id": "view-in-github"
   },
   "source": [
    "<a href=\"https://colab.research.google.com/github/byronkamal/data_science/blob/master/Titanic/titanic.ipynb\" target=\"_parent\"><img src=\"https://colab.research.google.com/assets/colab-badge.svg\" alt=\"Open In Colab\"/></a>"
   ]
  },
  {
   "cell_type": "markdown",
   "metadata": {
    "colab_type": "text",
    "id": "kE5mfrcHLdWU"
   },
   "source": [
    "**Checklist**\n",
    "1. Definição do Problema\n",
    "2. Obtenção dos Dados\n",
    "3. Exploração dos Dados\n",
    "4. Preparação dos Dados\n",
    "5. Construção do Modelo\n",
    "6. Avaliação"
   ]
  },
  {
   "cell_type": "markdown",
   "metadata": {
    "colab_type": "text",
    "id": "hn0s8h26VDXH"
   },
   "source": [
    "## 1. Definição do problema\n"
   ]
  },
  {
   "cell_type": "markdown",
   "metadata": {
    "colab_type": "text",
    "id": "ayV3UFkTVD3t"
   },
   "source": [
    "## 2. Obtenção dos dados\n",
    "[Os dados são disponilizados pelo Kaggle](https://www.kaggle.com/c/titanic/data) foram divididos em 2 grupos: \n",
    "- <p align='justify'>Dados de treinamento <i>(train.csv)</i>: essa dados servem para construir o modelo de machine learning. Nesse dataset há features sobre os passageiros e é informado se ele sobreviveu ou não.</p>\n",
    "- <p align='justify'>Dados de teste <i>(test.csv)</i>: nesse dataset há dados que não foram \"vistos\" pelo modelo de machine learning e é em cima deles que a predição é feita avaliação do modelo. Aqui **não** é informado se o passageiro sobreviveu ou não.</p>\n",
    "\n",
    "<p align='justify'>Para facilitar, os dados já estão disponíveis nessa mesma pasta do notebook.</p>"
   ]
  },
  {
   "cell_type": "code",
   "execution_count": 1,
   "metadata": {
    "colab": {
     "base_uri": "https://localhost:8080/",
     "height": 52
    },
    "colab_type": "code",
    "id": "7-hWBZ-yQzMK",
    "outputId": "d6a09a81-742c-4dcb-bcf4-c9ad9527787f"
   },
   "outputs": [
    {
     "name": "stdout",
     "output_type": "stream",
     "text": [
      "Variáveis(colunas):\t12\n",
      "Entradas(linhas):\t891\n"
     ]
    }
   ],
   "source": [
    "# importar os pacotes\n",
    "import pandas as pd\n",
    "import numpy as np\n",
    "import matplotlib.pyplot as plt\n",
    "import seaborn as sns\n",
    "\n",
    "# permitir visualizar todas as colunas\n",
    "pd.options.display.max_columns = None\n",
    "\n",
    "# renderizar os gráficos no notebook\n",
    "# %matplotlib inline\n",
    "\n",
    "train = pd.read_csv('data/train.csv')\n",
    "test = pd.read_csv('data/test.csv')\n",
    "\n",
    "\n",
    "# verificando as dimensões do DataFrame\n",
    "print(\"Variáveis(colunas):\\t{}\\nEntradas(linhas):\\t{}\".format(train.shape[1], train.shape[0]))"
   ]
  },
  {
   "cell_type": "markdown",
   "metadata": {
    "colab_type": "text",
    "id": "XtMfu6Pje2i-"
   },
   "source": [
    "## 3. Exploração dos Dados\n",
    "\n",
    "<p align='justify'> A Exploração dos dados é uma parte importante dentro de Data\n",
    "Science, pois aqui é realizada a análise das variáveis. Realizaremos a seguir alguns procedimentos como definir a váriavel alvo (target), dicionário de dados, visualização e correlação entre os dados. Esses procedimentos ajudam na análise dos dados. \n",
    "</p>\n",
    "\n",
    "<p align='justify'> \n",
    "Como estamos trabalhando com Aprendizado Supervisionado, é necessário que exista uma váriavel alv, que no nosso caso é <i>Survived</i>. \n",
    "</p>\n",
    "\n",
    "<br/>\n",
    "\n",
    "**Vamos primeiramente identificar qual é o tipo de cada variável para depois montarmos nosso Dicionário de Dados**\n"
   ]
  },
  {
   "cell_type": "code",
   "execution_count": 2,
   "metadata": {
    "colab": {
     "base_uri": "https://localhost:8080/",
     "height": 432
    },
    "colab_type": "code",
    "id": "SoX3X-thn-G0",
    "outputId": "070737d6-e29d-489d-88e5-819eed700da8"
   },
   "outputs": [
    {
     "data": {
      "text/plain": [
       "PassengerId      int64\n",
       "Survived         int64\n",
       "Pclass           int64\n",
       "Name            object\n",
       "Sex             object\n",
       "Age            float64\n",
       "SibSp            int64\n",
       "Parch            int64\n",
       "Ticket          object\n",
       "Fare           float64\n",
       "Cabin           object\n",
       "Embarked        object\n",
       "dtype: object"
      ]
     },
     "metadata": {},
     "output_type": "display_data"
    },
    {
     "data": {
      "text/html": [
       "<div>\n",
       "<style scoped>\n",
       "    .dataframe tbody tr th:only-of-type {\n",
       "        vertical-align: middle;\n",
       "    }\n",
       "\n",
       "    .dataframe tbody tr th {\n",
       "        vertical-align: top;\n",
       "    }\n",
       "\n",
       "    .dataframe thead th {\n",
       "        text-align: right;\n",
       "    }\n",
       "</style>\n",
       "<table border=\"1\" class=\"dataframe\">\n",
       "  <thead>\n",
       "    <tr style=\"text-align: right;\">\n",
       "      <th></th>\n",
       "      <th>PassengerId</th>\n",
       "      <th>Survived</th>\n",
       "      <th>Pclass</th>\n",
       "      <th>Name</th>\n",
       "      <th>Sex</th>\n",
       "      <th>Age</th>\n",
       "      <th>SibSp</th>\n",
       "      <th>Parch</th>\n",
       "      <th>Ticket</th>\n",
       "      <th>Fare</th>\n",
       "      <th>Cabin</th>\n",
       "      <th>Embarked</th>\n",
       "    </tr>\n",
       "  </thead>\n",
       "  <tbody>\n",
       "    <tr>\n",
       "      <th>0</th>\n",
       "      <td>1</td>\n",
       "      <td>0</td>\n",
       "      <td>3</td>\n",
       "      <td>Braund, Mr. Owen Harris</td>\n",
       "      <td>male</td>\n",
       "      <td>22.0</td>\n",
       "      <td>1</td>\n",
       "      <td>0</td>\n",
       "      <td>A/5 21171</td>\n",
       "      <td>7.2500</td>\n",
       "      <td>NaN</td>\n",
       "      <td>S</td>\n",
       "    </tr>\n",
       "    <tr>\n",
       "      <th>1</th>\n",
       "      <td>2</td>\n",
       "      <td>1</td>\n",
       "      <td>1</td>\n",
       "      <td>Cumings, Mrs. John Bradley (Florence Briggs Th...</td>\n",
       "      <td>female</td>\n",
       "      <td>38.0</td>\n",
       "      <td>1</td>\n",
       "      <td>0</td>\n",
       "      <td>PC 17599</td>\n",
       "      <td>71.2833</td>\n",
       "      <td>C85</td>\n",
       "      <td>C</td>\n",
       "    </tr>\n",
       "    <tr>\n",
       "      <th>2</th>\n",
       "      <td>3</td>\n",
       "      <td>1</td>\n",
       "      <td>3</td>\n",
       "      <td>Heikkinen, Miss. Laina</td>\n",
       "      <td>female</td>\n",
       "      <td>26.0</td>\n",
       "      <td>0</td>\n",
       "      <td>0</td>\n",
       "      <td>STON/O2. 3101282</td>\n",
       "      <td>7.9250</td>\n",
       "      <td>NaN</td>\n",
       "      <td>S</td>\n",
       "    </tr>\n",
       "    <tr>\n",
       "      <th>3</th>\n",
       "      <td>4</td>\n",
       "      <td>1</td>\n",
       "      <td>1</td>\n",
       "      <td>Futrelle, Mrs. Jacques Heath (Lily May Peel)</td>\n",
       "      <td>female</td>\n",
       "      <td>35.0</td>\n",
       "      <td>1</td>\n",
       "      <td>0</td>\n",
       "      <td>113803</td>\n",
       "      <td>53.1000</td>\n",
       "      <td>C123</td>\n",
       "      <td>S</td>\n",
       "    </tr>\n",
       "    <tr>\n",
       "      <th>4</th>\n",
       "      <td>5</td>\n",
       "      <td>0</td>\n",
       "      <td>3</td>\n",
       "      <td>Allen, Mr. William Henry</td>\n",
       "      <td>male</td>\n",
       "      <td>35.0</td>\n",
       "      <td>0</td>\n",
       "      <td>0</td>\n",
       "      <td>373450</td>\n",
       "      <td>8.0500</td>\n",
       "      <td>NaN</td>\n",
       "      <td>S</td>\n",
       "    </tr>\n",
       "  </tbody>\n",
       "</table>\n",
       "</div>"
      ],
      "text/plain": [
       "   PassengerId  Survived  Pclass  \\\n",
       "0            1         0       3   \n",
       "1            2         1       1   \n",
       "2            3         1       3   \n",
       "3            4         1       1   \n",
       "4            5         0       3   \n",
       "\n",
       "                                                Name     Sex   Age  SibSp  \\\n",
       "0                            Braund, Mr. Owen Harris    male  22.0      1   \n",
       "1  Cumings, Mrs. John Bradley (Florence Briggs Th...  female  38.0      1   \n",
       "2                             Heikkinen, Miss. Laina  female  26.0      0   \n",
       "3       Futrelle, Mrs. Jacques Heath (Lily May Peel)  female  35.0      1   \n",
       "4                           Allen, Mr. William Henry    male  35.0      0   \n",
       "\n",
       "   Parch            Ticket     Fare Cabin Embarked  \n",
       "0      0         A/5 21171   7.2500   NaN        S  \n",
       "1      0          PC 17599  71.2833   C85        C  \n",
       "2      0  STON/O2. 3101282   7.9250   NaN        S  \n",
       "3      0            113803  53.1000  C123        S  \n",
       "4      0            373450   8.0500   NaN        S  "
      ]
     },
     "metadata": {},
     "output_type": "display_data"
    }
   ],
   "source": [
    "# identificar o tipo de dados cada variável \n",
    "display(train.dtypes)\n",
    "\n",
    "#ver as primeiras tuplas do dataset de treino\n",
    "display(train.head())"
   ]
  },
  {
   "cell_type": "markdown",
   "metadata": {
    "colab_type": "text",
    "id": "sTLIqfqAouHQ"
   },
   "source": [
    "### Dicionário de Dados\n",
    "| Variável | Descrição | Key | Tipo de Dado |Tipo de variável|\n",
    "|--|--|--|--|--|\n",
    "|PassengerId|Número de indetificação de cada passageiro|-|int|Númérica Discreta - **Chave Primária**|\n",
    "|Survived|informa se o passageiro sobreviveu ou não ao desastre|0 = Não, 1 = Sim|int|Númerica Discreta - **Alvo**|\n",
    "|Pclass|Classe do bilhete|1 = 1ª classe, 2 = 2ª classe, 3 = 3º classe|int|Númerica Discreta|\n",
    "|SibSp|Número de irmão/côjuges abordo no Titanic|-|int|Númerica Discreta|\n",
    "|Parch|Número de pais/crianças abordos no Titanic|-|int|Númerica Discreta|\n",
    "|Age|Idade do passageiro|-|float|Númerica Contínua|\n",
    "|Fare|Preço da passagem|-|float|Númerica Contínua|\n",
    "|Name|Nome do passageiro|-|object|Categórica|\n",
    "|Sex|Sexo do passageiro|-|object|Categórica|\n",
    "|Ticket|Número da passagem|-|object|Categórica|\n",
    "|Cabin|Número da cabine do passageiro|-|object|Categórica|\n",
    "|Embarked|Porto de embarque do passageiro|-|object|Categórica|"
   ]
  }
 ],
 "metadata": {
  "colab": {
   "include_colab_link": true,
   "name": "Untitled0.ipynb",
   "provenance": []
  },
  "kernelspec": {
   "display_name": "Python 3",
   "language": "python",
   "name": "python3"
  },
  "language_info": {
   "codemirror_mode": {
    "name": "ipython",
    "version": 3
   },
   "file_extension": ".py",
   "mimetype": "text/x-python",
   "name": "python",
   "nbconvert_exporter": "python",
   "pygments_lexer": "ipython3",
   "version": "3.7.4"
  }
 },
 "nbformat": 4,
 "nbformat_minor": 1
}
