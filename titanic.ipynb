{
  "nbformat": 4,
  "nbformat_minor": 0,
  "metadata": {
    "colab": {
      "name": "titanic.ipynb",
      "provenance": [],
      "collapsed_sections": [],
      "toc_visible": true,
      "include_colab_link": true
    },
    "kernelspec": {
      "display_name": "Python 3",
      "language": "python",
      "name": "python3"
    },
    "language_info": {
      "codemirror_mode": {
        "name": "ipython",
        "version": 3
      },
      "file_extension": ".py",
      "mimetype": "text/x-python",
      "name": "python",
      "nbconvert_exporter": "python",
      "pygments_lexer": "ipython3",
      "version": "3.7.4"
    }
  },
  "cells": [
    {
      "cell_type": "markdown",
      "metadata": {
        "id": "view-in-github",
        "colab_type": "text"
      },
      "source": [
        "<a href=\"https://colab.research.google.com/github/byronkamal/data_science/blob/master/titanic.ipynb\" target=\"_parent\"><img src=\"https://colab.research.google.com/assets/colab-badge.svg\" alt=\"Open In Colab\"/></a>"
      ]
    },
    {
      "cell_type": "markdown",
      "metadata": {
        "id": "cPBVmJggVUIT",
        "colab_type": "text"
      },
      "source": [
        "# Titanic: Machine Learning from Disaster\n",
        "\n",
        "![titanic](https://miro.medium.com/max/2496/1*ONRawnQ6ZUF15TaIIMw7AQ.jpeg)\n",
        "\n",
        "-----------"
      ]
    },
    {
      "cell_type": "markdown",
      "metadata": {
        "colab_type": "text",
        "id": "kE5mfrcHLdWU"
      },
      "source": [
        "**Checklist**\n",
        "1. Definição do Problema\n",
        "2. Obtenção dos Dados\n",
        "3. Exploração dos Dados\n",
        "4. Preparação dos Dados\n",
        "5. Construção do Modelo e Avaliação\n",
        "6. Salvando modelo para deploy"
      ]
    },
    {
      "cell_type": "markdown",
      "metadata": {
        "colab_type": "text",
        "id": "hn0s8h26VDXH"
      },
      "source": [
        "## 1. Definição do problema\n",
        "\n",
        "O desafio do Titanic é uma das competições mais famosas de Machine Learning. A popularidade desta competição fez com que ela fosse considerada como sendo um \"Hello, World!\" para o universo de Data Science (Ciência de Dados).\n",
        "O Titanic era navio mais moderno do mundo para a época. Apesar da tecnologia disponível, após colidir com um iceberg em 15 de abril de 1912, seu naufrágio matou 1502 pessoas de um total de 2224 passageiros.\n",
        "\n",
        "> **O principal objetivo desse desafio é utilizar os dados disponíveis para medir a chance de sobrevivência dos passageiros do Titanic.**"
      ]
    },
    {
      "cell_type": "markdown",
      "metadata": {
        "colab_type": "text",
        "id": "ayV3UFkTVD3t"
      },
      "source": [
        "## 2. Obtenção dos dados\n",
        "[Os dados são disponilizados pelo Kaggle](https://www.kaggle.com/c/titanic/data) foram divididos em 2 grupos: \n",
        "- <p align='justify'>Dados de treinamento <i>(train.csv)</i>: essa dados servem para construir o modelo de machine learning. Nesse dataset há features sobre os passageiros e é informado se ele sobreviveu ou não.</p>\n",
        "- Dados de teste <i>(test.csv)</i>: nesse dataset há dados que não foram \"vistos\" pelo modelo de machine learning e é em cima deles que a predição é feita avaliação do modelo. Aqui **não** é informado se o passageiro sobreviveu ou não.\n",
        "\n",
        "<p align='justify'>Para facilitar, os dados já estão disponíveis nessa mesma pasta do notebook.</p>"
      ]
    },
    {
      "cell_type": "code",
      "metadata": {
        "colab_type": "code",
        "id": "7-hWBZ-yQzMK",
        "colab": {}
      },
      "source": [
        "# importar os pacotes\n",
        "import pandas as pd\n",
        "import numpy as np\n",
        "import matplotlib.pyplot as plt\n",
        "import seaborn as sns\n",
        "import math\n",
        "\n",
        "# permitir visualizar todas as colunas\n",
        "pd.options.display.max_columns = None\n",
        "\n",
        "# renderizar os gráficos no notebook\n",
        "# %matplotlib inline"
      ],
      "execution_count": 60,
      "outputs": []
    },
    {
      "cell_type": "code",
      "metadata": {
        "id": "pNxm8Kh90Vv4",
        "colab_type": "code",
        "colab": {
          "base_uri": "https://localhost:8080/",
          "height": 34
        },
        "outputId": "422b672f-0602-4bb6-b19c-c2117b7161ac"
      },
      "source": [
        "from google.colab import drive\n",
        "drive.mount('/content/drive')"
      ],
      "execution_count": 61,
      "outputs": [
        {
          "output_type": "stream",
          "text": [
            "Drive already mounted at /content/drive; to attempt to forcibly remount, call drive.mount(\"/content/drive\", force_remount=True).\n"
          ],
          "name": "stdout"
        }
      ]
    },
    {
      "cell_type": "code",
      "metadata": {
        "id": "s2xVMqzg0E-O",
        "colab_type": "code",
        "colab": {
          "base_uri": "https://localhost:8080/",
          "height": 50
        },
        "outputId": "a867b922-70e3-43c2-a342-4ab5314a3d9c"
      },
      "source": [
        "# importação dos arquivos para o modelo\n",
        "train = pd.read_csv('/content/drive/My Drive/Colab Notebooks/titanic/data/train.csv')\n",
        "test = pd.read_csv('/content/drive/My Drive/Colab Notebooks/titanic/data/test.csv')\n",
        "\n",
        "\n",
        "# verificando as dimensões do DataFrame\n",
        "print(\"Variáveis(colunas):\\t{}\\nEntradas(linhas):\\t{}\".format(train.shape[1], train.shape[0]))"
      ],
      "execution_count": 62,
      "outputs": [
        {
          "output_type": "stream",
          "text": [
            "Variáveis(colunas):\t12\n",
            "Entradas(linhas):\t891\n"
          ],
          "name": "stdout"
        }
      ]
    },
    {
      "cell_type": "markdown",
      "metadata": {
        "colab_type": "text",
        "id": "XtMfu6Pje2i-"
      },
      "source": [
        "## 3. Exploração dos Dados\n",
        "\n",
        "<p align='justify'> A Exploração dos dados é uma parte importante dentro de Data Science pois aqui é realizada a análise das variáveis. Realizaremos a seguir alguns procedimentos como definir a váriavel alvo (target), dicionário de dados, visualização e correlação entre os dados. Esses procedimentos ajudam na análise dos dados. \n",
        "</p>\n",
        "\n",
        "<p align='justify'> \n",
        "Como estamos trabalhando com Aprendizado Supervisionado, é necessário que exista uma váriavel alv, que no nosso caso é <i>Survived</i>. \n",
        "</p>\n",
        "\n",
        "<br/>\n",
        "\n",
        "**Vamos primeiramente identificar qual é o tipo de cada variável para depois montarmos nosso Dicionário de Dados**\n"
      ]
    },
    {
      "cell_type": "code",
      "metadata": {
        "colab_type": "code",
        "id": "SoX3X-thn-G0",
        "colab": {
          "base_uri": "https://localhost:8080/",
          "height": 414
        },
        "outputId": "9b0f6e3d-85cd-498c-9b5a-9553c241578b"
      },
      "source": [
        "# identificar o tipo de dados cada variável \n",
        "display(train.dtypes)\n",
        "\n",
        "# ver os primeiros registros dataset de treino\n",
        "display(train.head())"
      ],
      "execution_count": 63,
      "outputs": [
        {
          "output_type": "display_data",
          "data": {
            "text/plain": [
              "PassengerId      int64\n",
              "Survived         int64\n",
              "Pclass           int64\n",
              "Name            object\n",
              "Sex             object\n",
              "Age            float64\n",
              "SibSp            int64\n",
              "Parch            int64\n",
              "Ticket          object\n",
              "Fare           float64\n",
              "Cabin           object\n",
              "Embarked        object\n",
              "dtype: object"
            ]
          },
          "metadata": {
            "tags": []
          }
        },
        {
          "output_type": "display_data",
          "data": {
            "text/html": [
              "<div>\n",
              "<style scoped>\n",
              "    .dataframe tbody tr th:only-of-type {\n",
              "        vertical-align: middle;\n",
              "    }\n",
              "\n",
              "    .dataframe tbody tr th {\n",
              "        vertical-align: top;\n",
              "    }\n",
              "\n",
              "    .dataframe thead th {\n",
              "        text-align: right;\n",
              "    }\n",
              "</style>\n",
              "<table border=\"1\" class=\"dataframe\">\n",
              "  <thead>\n",
              "    <tr style=\"text-align: right;\">\n",
              "      <th></th>\n",
              "      <th>PassengerId</th>\n",
              "      <th>Survived</th>\n",
              "      <th>Pclass</th>\n",
              "      <th>Name</th>\n",
              "      <th>Sex</th>\n",
              "      <th>Age</th>\n",
              "      <th>SibSp</th>\n",
              "      <th>Parch</th>\n",
              "      <th>Ticket</th>\n",
              "      <th>Fare</th>\n",
              "      <th>Cabin</th>\n",
              "      <th>Embarked</th>\n",
              "    </tr>\n",
              "  </thead>\n",
              "  <tbody>\n",
              "    <tr>\n",
              "      <th>0</th>\n",
              "      <td>1</td>\n",
              "      <td>0</td>\n",
              "      <td>3</td>\n",
              "      <td>Braund, Mr. Owen Harris</td>\n",
              "      <td>male</td>\n",
              "      <td>22.0</td>\n",
              "      <td>1</td>\n",
              "      <td>0</td>\n",
              "      <td>A/5 21171</td>\n",
              "      <td>7.2500</td>\n",
              "      <td>NaN</td>\n",
              "      <td>S</td>\n",
              "    </tr>\n",
              "    <tr>\n",
              "      <th>1</th>\n",
              "      <td>2</td>\n",
              "      <td>1</td>\n",
              "      <td>1</td>\n",
              "      <td>Cumings, Mrs. John Bradley (Florence Briggs Th...</td>\n",
              "      <td>female</td>\n",
              "      <td>38.0</td>\n",
              "      <td>1</td>\n",
              "      <td>0</td>\n",
              "      <td>PC 17599</td>\n",
              "      <td>71.2833</td>\n",
              "      <td>C85</td>\n",
              "      <td>C</td>\n",
              "    </tr>\n",
              "    <tr>\n",
              "      <th>2</th>\n",
              "      <td>3</td>\n",
              "      <td>1</td>\n",
              "      <td>3</td>\n",
              "      <td>Heikkinen, Miss. Laina</td>\n",
              "      <td>female</td>\n",
              "      <td>26.0</td>\n",
              "      <td>0</td>\n",
              "      <td>0</td>\n",
              "      <td>STON/O2. 3101282</td>\n",
              "      <td>7.9250</td>\n",
              "      <td>NaN</td>\n",
              "      <td>S</td>\n",
              "    </tr>\n",
              "    <tr>\n",
              "      <th>3</th>\n",
              "      <td>4</td>\n",
              "      <td>1</td>\n",
              "      <td>1</td>\n",
              "      <td>Futrelle, Mrs. Jacques Heath (Lily May Peel)</td>\n",
              "      <td>female</td>\n",
              "      <td>35.0</td>\n",
              "      <td>1</td>\n",
              "      <td>0</td>\n",
              "      <td>113803</td>\n",
              "      <td>53.1000</td>\n",
              "      <td>C123</td>\n",
              "      <td>S</td>\n",
              "    </tr>\n",
              "    <tr>\n",
              "      <th>4</th>\n",
              "      <td>5</td>\n",
              "      <td>0</td>\n",
              "      <td>3</td>\n",
              "      <td>Allen, Mr. William Henry</td>\n",
              "      <td>male</td>\n",
              "      <td>35.0</td>\n",
              "      <td>0</td>\n",
              "      <td>0</td>\n",
              "      <td>373450</td>\n",
              "      <td>8.0500</td>\n",
              "      <td>NaN</td>\n",
              "      <td>S</td>\n",
              "    </tr>\n",
              "  </tbody>\n",
              "</table>\n",
              "</div>"
            ],
            "text/plain": [
              "   PassengerId  Survived  Pclass  \\\n",
              "0            1         0       3   \n",
              "1            2         1       1   \n",
              "2            3         1       3   \n",
              "3            4         1       1   \n",
              "4            5         0       3   \n",
              "\n",
              "                                                Name     Sex   Age  SibSp  \\\n",
              "0                            Braund, Mr. Owen Harris    male  22.0      1   \n",
              "1  Cumings, Mrs. John Bradley (Florence Briggs Th...  female  38.0      1   \n",
              "2                             Heikkinen, Miss. Laina  female  26.0      0   \n",
              "3       Futrelle, Mrs. Jacques Heath (Lily May Peel)  female  35.0      1   \n",
              "4                           Allen, Mr. William Henry    male  35.0      0   \n",
              "\n",
              "   Parch            Ticket     Fare Cabin Embarked  \n",
              "0      0         A/5 21171   7.2500   NaN        S  \n",
              "1      0          PC 17599  71.2833   C85        C  \n",
              "2      0  STON/O2. 3101282   7.9250   NaN        S  \n",
              "3      0            113803  53.1000  C123        S  \n",
              "4      0            373450   8.0500   NaN        S  "
            ]
          },
          "metadata": {
            "tags": []
          }
        }
      ]
    },
    {
      "cell_type": "markdown",
      "metadata": {
        "colab_type": "text",
        "id": "sTLIqfqAouHQ"
      },
      "source": [
        "### Dicionário de Dados\n",
        "| Variável | Descrição | Key | Tipo de Dado |Tipo de variável|\n",
        "|--|--|--|--|--|\n",
        "|PassengerId|Número de indetificação de cada passageiro|-|int|Númérica Discreta - **Chave Primária**|\n",
        "|Survived|informa se o passageiro sobreviveu ou não ao desastre|0 = Não, 1 = Sim|int|Númerica Discreta - **Alvo**|\n",
        "|Pclass|Classe do bilhete|1 = 1ª classe, 2 = 2ª classe, 3 = 3º classe|int|Númerica Discreta|\n",
        "|SibSp|(siblings / spouses) Número de irmãos/côjuges abordo no Titanic|-|int|Númerica Discreta|\n",
        "|Parch|(parents / children) Número de pais/crianças abordos no Titanic|-|int|Númerica Discreta|\n",
        "|Age|Idade do passageiro|-|float|Númerica Contínua|\n",
        "|Fare|Preço da passagem|-|float|Númerica Contínua|\n",
        "|Name|Nome do passageiro|-|object|Categórica|\n",
        "|Sex|Sexo do passageiro|-|object|Categórica|\n",
        "|Ticket|Número da passagem|-|object|Categórica|\n",
        "|Cabin|Número da cabine do passageiro|C = Cherbourg(França), Q = Queenstown(Irlanda), S = Southampton(Reino Unido)|object|Categórica|\n",
        "|Embarked|Porto de embarque do passageiro|-|object|Categórica|"
      ]
    },
    {
      "cell_type": "markdown",
      "metadata": {
        "id": "0cDFIzNDticF",
        "colab_type": "text"
      },
      "source": [
        "### Valores faltantes\n",
        "\n",
        "<p align='justify'> É necessário sabermos quais são os valores faltantes em nosso dataset e, a seguir, é possível ver a quantidade em números e a porcetagem desses valores: </p>"
      ]
    },
    {
      "cell_type": "code",
      "metadata": {
        "id": "oY4lyf7Wt8tJ",
        "colab_type": "code",
        "colab": {
          "base_uri": "https://localhost:8080/",
          "height": 235
        },
        "outputId": "4c84e59a-4e89-414b-f6ff-a4f6cbed5fae"
      },
      "source": [
        "# quantidade de informações faltantes\n",
        "train.isnull().sum().sort_values(ascending=False)"
      ],
      "execution_count": 64,
      "outputs": [
        {
          "output_type": "execute_result",
          "data": {
            "text/plain": [
              "Cabin          687\n",
              "Age            177\n",
              "Embarked         2\n",
              "Fare             0\n",
              "Ticket           0\n",
              "Parch            0\n",
              "SibSp            0\n",
              "Sex              0\n",
              "Name             0\n",
              "Pclass           0\n",
              "Survived         0\n",
              "PassengerId      0\n",
              "dtype: int64"
            ]
          },
          "metadata": {
            "tags": []
          },
          "execution_count": 64
        }
      ]
    },
    {
      "cell_type": "code",
      "metadata": {
        "id": "nkq8GrMav1CA",
        "colab_type": "code",
        "colab": {
          "base_uri": "https://localhost:8080/",
          "height": 235
        },
        "outputId": "df8468d1-8e30-4f5e-b2bf-e57354fa4ed8"
      },
      "source": [
        "# porcentagem das informações faltantes\n",
        "(train.isnull().sum() / train.shape[0]).sort_values(ascending=False)"
      ],
      "execution_count": 65,
      "outputs": [
        {
          "output_type": "execute_result",
          "data": {
            "text/plain": [
              "Cabin          0.771044\n",
              "Age            0.198653\n",
              "Embarked       0.002245\n",
              "Fare           0.000000\n",
              "Ticket         0.000000\n",
              "Parch          0.000000\n",
              "SibSp          0.000000\n",
              "Sex            0.000000\n",
              "Name           0.000000\n",
              "Pclass         0.000000\n",
              "Survived       0.000000\n",
              "PassengerId    0.000000\n",
              "dtype: float64"
            ]
          },
          "metadata": {
            "tags": []
          },
          "execution_count": 65
        }
      ]
    },
    {
      "cell_type": "markdown",
      "metadata": {
        "id": "D1PtaL88V90S",
        "colab_type": "text"
      },
      "source": [
        ""
      ]
    },
    {
      "cell_type": "markdown",
      "metadata": {
        "id": "02_bhrAfwB_e",
        "colab_type": "text"
      },
      "source": [
        "Temos ao total **891 entradas** e é possível constatar que **Cabin** é a que possui a maior quantidade de dados faltantes, com 687 valores ausentes ou, em porcentagem, mais de 77%. Temos em seguida as colunas **Age** que possui 177 valores ausentes, quase 20%, e **Embarked** com 2 também ausentes representando pouco mais de 2%."
      ]
    },
    {
      "cell_type": "markdown",
      "metadata": {
        "id": "sQHjfot_yhsu",
        "colab_type": "text"
      },
      "source": [
        "### Análise estatística dos dados"
      ]
    },
    {
      "cell_type": "code",
      "metadata": {
        "id": "G4bWlpUsyqbz",
        "colab_type": "code",
        "colab": {
          "base_uri": "https://localhost:8080/",
          "height": 284
        },
        "outputId": "e8618103-f57c-48dd-e323-e11048c0e17b"
      },
      "source": [
        "# ver distribuição estatística\n",
        "train.describe()"
      ],
      "execution_count": 66,
      "outputs": [
        {
          "output_type": "execute_result",
          "data": {
            "text/html": [
              "<div>\n",
              "<style scoped>\n",
              "    .dataframe tbody tr th:only-of-type {\n",
              "        vertical-align: middle;\n",
              "    }\n",
              "\n",
              "    .dataframe tbody tr th {\n",
              "        vertical-align: top;\n",
              "    }\n",
              "\n",
              "    .dataframe thead th {\n",
              "        text-align: right;\n",
              "    }\n",
              "</style>\n",
              "<table border=\"1\" class=\"dataframe\">\n",
              "  <thead>\n",
              "    <tr style=\"text-align: right;\">\n",
              "      <th></th>\n",
              "      <th>PassengerId</th>\n",
              "      <th>Survived</th>\n",
              "      <th>Pclass</th>\n",
              "      <th>Age</th>\n",
              "      <th>SibSp</th>\n",
              "      <th>Parch</th>\n",
              "      <th>Fare</th>\n",
              "    </tr>\n",
              "  </thead>\n",
              "  <tbody>\n",
              "    <tr>\n",
              "      <th>count</th>\n",
              "      <td>891.000000</td>\n",
              "      <td>891.000000</td>\n",
              "      <td>891.000000</td>\n",
              "      <td>714.000000</td>\n",
              "      <td>891.000000</td>\n",
              "      <td>891.000000</td>\n",
              "      <td>891.000000</td>\n",
              "    </tr>\n",
              "    <tr>\n",
              "      <th>mean</th>\n",
              "      <td>446.000000</td>\n",
              "      <td>0.383838</td>\n",
              "      <td>2.308642</td>\n",
              "      <td>29.699118</td>\n",
              "      <td>0.523008</td>\n",
              "      <td>0.381594</td>\n",
              "      <td>32.204208</td>\n",
              "    </tr>\n",
              "    <tr>\n",
              "      <th>std</th>\n",
              "      <td>257.353842</td>\n",
              "      <td>0.486592</td>\n",
              "      <td>0.836071</td>\n",
              "      <td>14.526497</td>\n",
              "      <td>1.102743</td>\n",
              "      <td>0.806057</td>\n",
              "      <td>49.693429</td>\n",
              "    </tr>\n",
              "    <tr>\n",
              "      <th>min</th>\n",
              "      <td>1.000000</td>\n",
              "      <td>0.000000</td>\n",
              "      <td>1.000000</td>\n",
              "      <td>0.420000</td>\n",
              "      <td>0.000000</td>\n",
              "      <td>0.000000</td>\n",
              "      <td>0.000000</td>\n",
              "    </tr>\n",
              "    <tr>\n",
              "      <th>25%</th>\n",
              "      <td>223.500000</td>\n",
              "      <td>0.000000</td>\n",
              "      <td>2.000000</td>\n",
              "      <td>20.125000</td>\n",
              "      <td>0.000000</td>\n",
              "      <td>0.000000</td>\n",
              "      <td>7.910400</td>\n",
              "    </tr>\n",
              "    <tr>\n",
              "      <th>50%</th>\n",
              "      <td>446.000000</td>\n",
              "      <td>0.000000</td>\n",
              "      <td>3.000000</td>\n",
              "      <td>28.000000</td>\n",
              "      <td>0.000000</td>\n",
              "      <td>0.000000</td>\n",
              "      <td>14.454200</td>\n",
              "    </tr>\n",
              "    <tr>\n",
              "      <th>75%</th>\n",
              "      <td>668.500000</td>\n",
              "      <td>1.000000</td>\n",
              "      <td>3.000000</td>\n",
              "      <td>38.000000</td>\n",
              "      <td>1.000000</td>\n",
              "      <td>0.000000</td>\n",
              "      <td>31.000000</td>\n",
              "    </tr>\n",
              "    <tr>\n",
              "      <th>max</th>\n",
              "      <td>891.000000</td>\n",
              "      <td>1.000000</td>\n",
              "      <td>3.000000</td>\n",
              "      <td>80.000000</td>\n",
              "      <td>8.000000</td>\n",
              "      <td>6.000000</td>\n",
              "      <td>512.329200</td>\n",
              "    </tr>\n",
              "  </tbody>\n",
              "</table>\n",
              "</div>"
            ],
            "text/plain": [
              "       PassengerId    Survived      Pclass         Age       SibSp  \\\n",
              "count   891.000000  891.000000  891.000000  714.000000  891.000000   \n",
              "mean    446.000000    0.383838    2.308642   29.699118    0.523008   \n",
              "std     257.353842    0.486592    0.836071   14.526497    1.102743   \n",
              "min       1.000000    0.000000    1.000000    0.420000    0.000000   \n",
              "25%     223.500000    0.000000    2.000000   20.125000    0.000000   \n",
              "50%     446.000000    0.000000    3.000000   28.000000    0.000000   \n",
              "75%     668.500000    1.000000    3.000000   38.000000    1.000000   \n",
              "max     891.000000    1.000000    3.000000   80.000000    8.000000   \n",
              "\n",
              "            Parch        Fare  \n",
              "count  891.000000  891.000000  \n",
              "mean     0.381594   32.204208  \n",
              "std      0.806057   49.693429  \n",
              "min      0.000000    0.000000  \n",
              "25%      0.000000    7.910400  \n",
              "50%      0.000000   14.454200  \n",
              "75%      0.000000   31.000000  \n",
              "max      6.000000  512.329200  "
            ]
          },
          "metadata": {
            "tags": []
          },
          "execution_count": 66
        }
      ]
    },
    {
      "cell_type": "code",
      "metadata": {
        "id": "LNsRPVhDTad7",
        "colab_type": "code",
        "colab": {
          "base_uri": "https://localhost:8080/",
          "height": 775
        },
        "outputId": "018af67e-4030-4d44-c7ff-8d2622018c7d"
      },
      "source": [
        "# histograma das variáveis númericas\n",
        "train.hist(figsize=(10,10))"
      ],
      "execution_count": 67,
      "outputs": [
        {
          "output_type": "execute_result",
          "data": {
            "text/plain": [
              "array([[<matplotlib.axes._subplots.AxesSubplot object at 0x7f372f957780>,\n",
              "        <matplotlib.axes._subplots.AxesSubplot object at 0x7f372f92bd30>,\n",
              "        <matplotlib.axes._subplots.AxesSubplot object at 0x7f372f8dcf98>],\n",
              "       [<matplotlib.axes._subplots.AxesSubplot object at 0x7f372f897240>,\n",
              "        <matplotlib.axes._subplots.AxesSubplot object at 0x7f373001f2b0>,\n",
              "        <matplotlib.axes._subplots.AxesSubplot object at 0x7f372f8765c0>],\n",
              "       [<matplotlib.axes._subplots.AxesSubplot object at 0x7f372f825828>,\n",
              "        <matplotlib.axes._subplots.AxesSubplot object at 0x7f372f7d7a58>,\n",
              "        <matplotlib.axes._subplots.AxesSubplot object at 0x7f372f7d7ac8>]],\n",
              "      dtype=object)"
            ]
          },
          "metadata": {
            "tags": []
          },
          "execution_count": 67
        },
        {
          "output_type": "display_data",
          "data": {
            "image/png": "[encoded data removed]",
            "text/plain": [
              "<Figure size 720x720 with 9 Axes>"
            ]
          },
          "metadata": {
            "tags": [],
            "needs_background": "light"
          }
        }
      ]
    },
    {
      "cell_type": "markdown",
      "metadata": {
        "id": "sDPxG5SWYPfR",
        "colab_type": "text"
      },
      "source": [
        "<br/>\n",
        "\n",
        "**Já que nosso objetivo é construir um modelo para medir a chance de sobrevivência dos passageiros do Tianic, então é importante termos algumas análises dos dados relacionados à coluna Survived**"
      ]
    },
    {
      "cell_type": "code",
      "metadata": {
        "id": "QtsLTC-MZpxQ",
        "colab_type": "code",
        "colab": {
          "base_uri": "https://localhost:8080/",
          "height": 136
        },
        "outputId": "819b63b7-d73c-48a2-c970-1b889d17c806"
      },
      "source": [
        "# probabilidade de sobrevivência pelo Sexo\n",
        "train[['Sex', 'Survived']].groupby(['Sex']).mean()"
      ],
      "execution_count": 68,
      "outputs": [
        {
          "output_type": "execute_result",
          "data": {
            "text/html": [
              "<div>\n",
              "<style scoped>\n",
              "    .dataframe tbody tr th:only-of-type {\n",
              "        vertical-align: middle;\n",
              "    }\n",
              "\n",
              "    .dataframe tbody tr th {\n",
              "        vertical-align: top;\n",
              "    }\n",
              "\n",
              "    .dataframe thead th {\n",
              "        text-align: right;\n",
              "    }\n",
              "</style>\n",
              "<table border=\"1\" class=\"dataframe\">\n",
              "  <thead>\n",
              "    <tr style=\"text-align: right;\">\n",
              "      <th></th>\n",
              "      <th>Survived</th>\n",
              "    </tr>\n",
              "    <tr>\n",
              "      <th>Sex</th>\n",
              "      <th></th>\n",
              "    </tr>\n",
              "  </thead>\n",
              "  <tbody>\n",
              "    <tr>\n",
              "      <th>female</th>\n",
              "      <td>0.742038</td>\n",
              "    </tr>\n",
              "    <tr>\n",
              "      <th>male</th>\n",
              "      <td>0.188908</td>\n",
              "    </tr>\n",
              "  </tbody>\n",
              "</table>\n",
              "</div>"
            ],
            "text/plain": [
              "        Survived\n",
              "Sex             \n",
              "female  0.742038\n",
              "male    0.188908"
            ]
          },
          "metadata": {
            "tags": []
          },
          "execution_count": 68
        }
      ]
    },
    {
      "cell_type": "code",
      "metadata": {
        "id": "maan-St-BXUR",
        "colab_type": "code",
        "colab": {
          "base_uri": "https://localhost:8080/",
          "height": 334
        },
        "outputId": "da4fc176-c68d-4a3b-b8c3-b40ecc0d3abb"
      },
      "source": [
        "# Gráficos para Survived vs Sex, Pclass e Embarked\n",
        "fig, (axis1, axis2, axis3) = plt.subplots(1,3, figsize=(13,5))\n",
        "\n",
        "sns.barplot(x='Sex', y='Survived', data=train, ax=axis1)\n",
        "sns.barplot(x='Pclass', y='Survived', data=train, ax=axis2)\n",
        "sns.barplot(x='Embarked', y='Survived', data=train, ax=axis3);"
      ],
      "execution_count": 69,
      "outputs": [
        {
          "output_type": "display_data",
          "data": {
            "image/png": "[encoded data removed]",
            "text/plain": [
              "<Figure size 936x360 with 3 Axes>"
            ]
          },
          "metadata": {
            "tags": [],
            "needs_background": "light"
          }
        }
      ]
    },
    {
      "cell_type": "markdown",
      "metadata": {
        "id": "O8z1__V6XLki",
        "colab_type": "text"
      },
      "source": [
        "Então podemos visualizar que:\n",
        "- Mulheres(75%) tiveram mais chances de sobrevivrem do que homens(18%)\n",
        "- Passageiros da 3ª classe tiveram menos chance de sobrevivência do que os passegeiros de 1ª ou 2ª classe."
      ]
    },
    {
      "cell_type": "code",
      "metadata": {
        "id": "fIC5DrVKJqNE",
        "colab_type": "code",
        "colab": {
          "base_uri": "https://localhost:8080/",
          "height": 242
        },
        "outputId": "bfc83f4f-1d60-4073-a207-59efea484107"
      },
      "source": [
        "# influência da idade na probabilidade de sobrevivência\n",
        "age_survived = sns.FacetGrid(train, col='Survived')\n",
        "age_survived.map(sns.distplot, 'Age')"
      ],
      "execution_count": 70,
      "outputs": [
        {
          "output_type": "execute_result",
          "data": {
            "text/plain": [
              "<seaborn.axisgrid.FacetGrid at 0x7f372f5fe5c0>"
            ]
          },
          "metadata": {
            "tags": []
          },
          "execution_count": 70
        },
        {
          "output_type": "display_data",
          "data": {
            "image/png": "[encoded data removed]",
            "text/plain": [
              "<Figure size 432x216 with 2 Axes>"
            ]
          },
          "metadata": {
            "tags": [],
            "needs_background": "light"
          }
        }
      ]
    },
    {
      "cell_type": "markdown",
      "metadata": {
        "id": "hQpyvOXzYg3G",
        "colab_type": "text"
      },
      "source": [
        "Comparando os gráficos acima, podemos observar que houve um pico de crianças pqeuenas no lado dos sobreviventes, o que nos leva a confirmar o famoso lema \"Crianças e mulheres primeiro\"."
      ]
    },
    {
      "cell_type": "code",
      "metadata": {
        "id": "lNDbdMDQORKL",
        "colab_type": "code",
        "colab": {
          "base_uri": "https://localhost:8080/",
          "height": 1000
        },
        "outputId": "c5dac549-896b-4718-98ac-6c250096380b"
      },
      "source": [
        "# plotar uma scatter matrix (matriz de dispersão)\n",
        "columns=['Parch', 'SibSp', 'Age', 'Pclass']\n",
        "pd.plotting.scatter_matrix(train[columns], figsize=(15, 20));"
      ],
      "execution_count": 71,
      "outputs": [
        {
          "output_type": "display_data",
          "data": {
            "image/png": "[encoded data removed]",
            "text/plain": [
              "<Figure size 1080x1440 with 16 Axes>"
            ]
          },
          "metadata": {
            "tags": [],
            "needs_background": "light"
          }
        }
      ]
    },
    {
      "cell_type": "markdown",
      "metadata": {
        "id": "ZdJS193zZQy6",
        "colab_type": "text"
      },
      "source": [
        "A gente consegue obeservar no gráfico acima coisas como, por exemplo, o fato de que pessoas mais velhas estão mais concentradas na 1ª Classe e pessoas mais jovens na 3ª classe."
      ]
    },
    {
      "cell_type": "code",
      "metadata": {
        "id": "J9YGegbBOzsV",
        "colab_type": "code",
        "colab": {
          "base_uri": "https://localhost:8080/",
          "height": 254
        },
        "outputId": "2518f68c-e894-4cf5-8f0f-e20efc479ed8"
      },
      "source": [
        "# ver correlações entre as variavéis numéricas com pandas\n",
        "train.corr()"
      ],
      "execution_count": 72,
      "outputs": [
        {
          "output_type": "execute_result",
          "data": {
            "text/html": [
              "<div>\n",
              "<style scoped>\n",
              "    .dataframe tbody tr th:only-of-type {\n",
              "        vertical-align: middle;\n",
              "    }\n",
              "\n",
              "    .dataframe tbody tr th {\n",
              "        vertical-align: top;\n",
              "    }\n",
              "\n",
              "    .dataframe thead th {\n",
              "        text-align: right;\n",
              "    }\n",
              "</style>\n",
              "<table border=\"1\" class=\"dataframe\">\n",
              "  <thead>\n",
              "    <tr style=\"text-align: right;\">\n",
              "      <th></th>\n",
              "      <th>PassengerId</th>\n",
              "      <th>Survived</th>\n",
              "      <th>Pclass</th>\n",
              "      <th>Age</th>\n",
              "      <th>SibSp</th>\n",
              "      <th>Parch</th>\n",
              "      <th>Fare</th>\n",
              "    </tr>\n",
              "  </thead>\n",
              "  <tbody>\n",
              "    <tr>\n",
              "      <th>PassengerId</th>\n",
              "      <td>1.000000</td>\n",
              "      <td>-0.005007</td>\n",
              "      <td>-0.035144</td>\n",
              "      <td>0.036847</td>\n",
              "      <td>-0.057527</td>\n",
              "      <td>-0.001652</td>\n",
              "      <td>0.012658</td>\n",
              "    </tr>\n",
              "    <tr>\n",
              "      <th>Survived</th>\n",
              "      <td>-0.005007</td>\n",
              "      <td>1.000000</td>\n",
              "      <td>-0.338481</td>\n",
              "      <td>-0.077221</td>\n",
              "      <td>-0.035322</td>\n",
              "      <td>0.081629</td>\n",
              "      <td>0.257307</td>\n",
              "    </tr>\n",
              "    <tr>\n",
              "      <th>Pclass</th>\n",
              "      <td>-0.035144</td>\n",
              "      <td>-0.338481</td>\n",
              "      <td>1.000000</td>\n",
              "      <td>-0.369226</td>\n",
              "      <td>0.083081</td>\n",
              "      <td>0.018443</td>\n",
              "      <td>-0.549500</td>\n",
              "    </tr>\n",
              "    <tr>\n",
              "      <th>Age</th>\n",
              "      <td>0.036847</td>\n",
              "      <td>-0.077221</td>\n",
              "      <td>-0.369226</td>\n",
              "      <td>1.000000</td>\n",
              "      <td>-0.308247</td>\n",
              "      <td>-0.189119</td>\n",
              "      <td>0.096067</td>\n",
              "    </tr>\n",
              "    <tr>\n",
              "      <th>SibSp</th>\n",
              "      <td>-0.057527</td>\n",
              "      <td>-0.035322</td>\n",
              "      <td>0.083081</td>\n",
              "      <td>-0.308247</td>\n",
              "      <td>1.000000</td>\n",
              "      <td>0.414838</td>\n",
              "      <td>0.159651</td>\n",
              "    </tr>\n",
              "    <tr>\n",
              "      <th>Parch</th>\n",
              "      <td>-0.001652</td>\n",
              "      <td>0.081629</td>\n",
              "      <td>0.018443</td>\n",
              "      <td>-0.189119</td>\n",
              "      <td>0.414838</td>\n",
              "      <td>1.000000</td>\n",
              "      <td>0.216225</td>\n",
              "    </tr>\n",
              "    <tr>\n",
              "      <th>Fare</th>\n",
              "      <td>0.012658</td>\n",
              "      <td>0.257307</td>\n",
              "      <td>-0.549500</td>\n",
              "      <td>0.096067</td>\n",
              "      <td>0.159651</td>\n",
              "      <td>0.216225</td>\n",
              "      <td>1.000000</td>\n",
              "    </tr>\n",
              "  </tbody>\n",
              "</table>\n",
              "</div>"
            ],
            "text/plain": [
              "             PassengerId  Survived    Pclass       Age     SibSp     Parch  \\\n",
              "PassengerId     1.000000 -0.005007 -0.035144  0.036847 -0.057527 -0.001652   \n",
              "Survived       -0.005007  1.000000 -0.338481 -0.077221 -0.035322  0.081629   \n",
              "Pclass         -0.035144 -0.338481  1.000000 -0.369226  0.083081  0.018443   \n",
              "Age             0.036847 -0.077221 -0.369226  1.000000 -0.308247 -0.189119   \n",
              "SibSp          -0.057527 -0.035322  0.083081 -0.308247  1.000000  0.414838   \n",
              "Parch          -0.001652  0.081629  0.018443 -0.189119  0.414838  1.000000   \n",
              "Fare            0.012658  0.257307 -0.549500  0.096067  0.159651  0.216225   \n",
              "\n",
              "                 Fare  \n",
              "PassengerId  0.012658  \n",
              "Survived     0.257307  \n",
              "Pclass      -0.549500  \n",
              "Age          0.096067  \n",
              "SibSp        0.159651  \n",
              "Parch        0.216225  \n",
              "Fare         1.000000  "
            ]
          },
          "metadata": {
            "tags": []
          },
          "execution_count": 72
        }
      ]
    },
    {
      "cell_type": "code",
      "metadata": {
        "id": "pNvo5kHkQetH",
        "colab_type": "code",
        "colab": {
          "base_uri": "https://localhost:8080/",
          "height": 320
        },
        "outputId": "607a6a12-ffe3-4122-f36d-b359770cb115"
      },
      "source": [
        "# ver correlações entre as variavéis numéricas com seaborn\n",
        "sns.heatmap(train.corr(), cmap='coolwarm', fmt='.3f', linewidths=0.1,\n",
        "            vmax=1.0, square=True, linecolor='white', annot=True);"
      ],
      "execution_count": 73,
      "outputs": [
        {
          "output_type": "display_data",
          "data": {
            "image/png": "[encoded data removed]",
            "text/plain": [
              "<Figure size 432x288 with 2 Axes>"
            ]
          },
          "metadata": {
            "tags": [],
            "needs_background": "light"
          }
        }
      ]
    },
    {
      "cell_type": "markdown",
      "metadata": {
        "id": "lMdDE8Fxxf1T",
        "colab_type": "text"
      },
      "source": [
        "## 4. Preparação dos dados\n",
        "\n",
        "**A seguir vamos concatenar os datasets de treino e teste**\n",
        "\n",
        "A concatenação dos datasets ficilita a etapa de preparação dos dados, pois é mais fácil fazer todas as etapas em somente um DataFrame do que em dois. No final do processo, esse único conjunto de dados pode ser separada novemente entre treino e teste."
      ]
    },
    {
      "cell_type": "code",
      "metadata": {
        "id": "QK_Nc6tqMov6",
        "colab_type": "code",
        "colab": {
          "base_uri": "https://localhost:8080/",
          "height": 34
        },
        "outputId": "83599307-ad49-4813-eb76-e69401a83cd5"
      },
      "source": [
        "# salvar os índices dos datasets para recuperação posterior\n",
        "train_idx = train.shape[0]\n",
        "test_idx = test.shape[0]\n",
        "\n",
        "# salvar PassengerId para submissao ao Kaggle\n",
        "passengerId = test['PassengerId']\n",
        "\n",
        "# extrair coluna 'Survived' e excluir ela do dataset treino\n",
        "y_train = train.Survived.copy()\n",
        "train.drop(['Survived'], axis=1, inplace=True)\n",
        "\n",
        "# concatenar treino e teste\n",
        "df_merged = pd.concat(objs=[train, test], axis=0).reset_index(drop=True)\n",
        "\n",
        "print(\"df_merged.shape: ({} x {})\".format(df_merged.shape[0], df_merged.shape[1]))"
      ],
      "execution_count": 74,
      "outputs": [
        {
          "output_type": "stream",
          "text": [
            "df_merged.shape: (1309 x 11)\n"
          ],
          "name": "stdout"
        }
      ]
    },
    {
      "cell_type": "markdown",
      "metadata": {
        "id": "CpwjstftNyUE",
        "colab_type": "text"
      },
      "source": [
        "**Seleção de features**\n",
        "\n",
        "Após a exploração e análise dos dados algumas variáveis podem não servir para nada ou não terem significância para o modelo de Machine Learning.\n",
        "\n",
        "No nosso dataset, iremos retirar as variáveis <i>['PassangerId', 'Name','Ticket', 'Cabin'],</i> pois **aparentemente** elas não irão ter tanto peso no nosso modelo.\n",
        "Assim, ficamos com as variáveis <i>['Pclass', 'Sex', 'Age', 'SibSp', 'Parch', 'Fare', 'Embarked'].</i>"
      ]
    },
    {
      "cell_type": "code",
      "metadata": {
        "id": "S23ymMAwRxrZ",
        "colab_type": "code",
        "colab": {}
      },
      "source": [
        "df_merged.drop(['PassengerId', 'Name', 'Ticket', 'Cabin'], axis=1, inplace=True)"
      ],
      "execution_count": 75,
      "outputs": []
    },
    {
      "cell_type": "markdown",
      "metadata": {
        "id": "qB2qPhPJVQ9Q",
        "colab_type": "text"
      },
      "source": [
        "\n",
        "<br />\n",
        "\n",
        "**Tratamentos dos dados faltantes**\n",
        "\n",
        "A seguir vamos analisar como faremos o tratamentos dos dados faltantes (<i>missing values</i>). Temos duas abordagens mais comuns:\n",
        "- Preencher esses valores arbitrariamente (média, mediana, valor mais frequente);\n",
        "- Excluir a linha inteira."
      ]
    },
    {
      "cell_type": "code",
      "metadata": {
        "id": "gydb90NKVcMP",
        "colab_type": "code",
        "colab": {
          "base_uri": "https://localhost:8080/",
          "height": 151
        },
        "outputId": "218620df-ca55-4340-c8a9-523017c5b45a"
      },
      "source": [
        "# ver quantidade de valores faltantes\n",
        "df_merged.isnull().sum()"
      ],
      "execution_count": 76,
      "outputs": [
        {
          "output_type": "execute_result",
          "data": {
            "text/plain": [
              "Pclass        0\n",
              "Sex           0\n",
              "Age         263\n",
              "SibSp         0\n",
              "Parch         0\n",
              "Fare          1\n",
              "Embarked      2\n",
              "dtype: int64"
            ]
          },
          "metadata": {
            "tags": []
          },
          "execution_count": 76
        }
      ]
    },
    {
      "cell_type": "markdown",
      "metadata": {
        "id": "fBUlbZMjW1dk",
        "colab_type": "text"
      },
      "source": [
        "Para idade e tarifa vamos subtituir com a mediana e para porto de embarque vamos colocar o valor com maior frequência."
      ]
    },
    {
      "cell_type": "code",
      "metadata": {
        "id": "Al9AaxQMXoft",
        "colab_type": "code",
        "colab": {}
      },
      "source": [
        "# age\n",
        "age_median = df_merged['Age'].median()\n",
        "df_merged['Age'].fillna(age_median, inplace=True)\n",
        "\n",
        "# fare\n",
        "fare_median = df_merged['Fare'].median()\n",
        "df_merged['Fare'].fillna(fare_median, inplace=True)\n",
        "\n",
        "# embarked\n",
        "embarked_top = df_merged['Embarked'].value_counts()[0]\n",
        "df_merged['Embarked'].fillna(embarked_top, inplace=True)"
      ],
      "execution_count": 77,
      "outputs": []
    },
    {
      "cell_type": "markdown",
      "metadata": {
        "id": "QXIpnb6vYklM",
        "colab_type": "text"
      },
      "source": [
        "<br />\n",
        "\n",
        "**Preparação das Variáveis Categóricas**\n",
        "\n",
        "No nosso dataset ainda existem variáveis que são do tipo categórica, porém nosso modelo só trabalha com variáveis do tipo numérica. Então, será aplicado a conversão de 'Sex' para {'male': 0, 'female': '} e para 'Embarked' será aplicado o conceito de variáveis dummies (assumem apenas valores 0 e 1, criando uma nova coluna para cada valor possível da variável categórica)."
      ]
    },
    {
      "cell_type": "code",
      "metadata": {
        "id": "3JU1QDngZ5lD",
        "colab_type": "code",
        "colab": {
          "base_uri": "https://localhost:8080/",
          "height": 402
        },
        "outputId": "5fbd8cc6-cdc8-4cf9-c530-e238546e7126"
      },
      "source": [
        "# converter 'Sex' em 0 e 1\n",
        "df_merged['Sex'] = df_merged['Sex'].map({'male': 0, 'female': 1})\n",
        "\n",
        "# dummie variables para 'Embaked'\n",
        "embarked_dummies = pd.get_dummies(df_merged['Embarked'], prefix='Embarked')\n",
        "df_merged = pd.concat([df_merged, embarked_dummies], axis=1)\n",
        "df_merged.drop('Embarked', axis=1, inplace=True)\n",
        "\n",
        "df_merged"
      ],
      "execution_count": 78,
      "outputs": [
        {
          "output_type": "execute_result",
          "data": {
            "text/html": [
              "<div>\n",
              "<style scoped>\n",
              "    .dataframe tbody tr th:only-of-type {\n",
              "        vertical-align: middle;\n",
              "    }\n",
              "\n",
              "    .dataframe tbody tr th {\n",
              "        vertical-align: top;\n",
              "    }\n",
              "\n",
              "    .dataframe thead th {\n",
              "        text-align: right;\n",
              "    }\n",
              "</style>\n",
              "<table border=\"1\" class=\"dataframe\">\n",
              "  <thead>\n",
              "    <tr style=\"text-align: right;\">\n",
              "      <th></th>\n",
              "      <th>Pclass</th>\n",
              "      <th>Sex</th>\n",
              "      <th>Age</th>\n",
              "      <th>SibSp</th>\n",
              "      <th>Parch</th>\n",
              "      <th>Fare</th>\n",
              "      <th>Embarked_914</th>\n",
              "      <th>Embarked_C</th>\n",
              "      <th>Embarked_Q</th>\n",
              "      <th>Embarked_S</th>\n",
              "    </tr>\n",
              "  </thead>\n",
              "  <tbody>\n",
              "    <tr>\n",
              "      <th>0</th>\n",
              "      <td>3</td>\n",
              "      <td>0</td>\n",
              "      <td>22.0</td>\n",
              "      <td>1</td>\n",
              "      <td>0</td>\n",
              "      <td>7.2500</td>\n",
              "      <td>0</td>\n",
              "      <td>0</td>\n",
              "      <td>0</td>\n",
              "      <td>1</td>\n",
              "    </tr>\n",
              "    <tr>\n",
              "      <th>1</th>\n",
              "      <td>1</td>\n",
              "      <td>1</td>\n",
              "      <td>38.0</td>\n",
              "      <td>1</td>\n",
              "      <td>0</td>\n",
              "      <td>71.2833</td>\n",
              "      <td>0</td>\n",
              "      <td>1</td>\n",
              "      <td>0</td>\n",
              "      <td>0</td>\n",
              "    </tr>\n",
              "    <tr>\n",
              "      <th>2</th>\n",
              "      <td>3</td>\n",
              "      <td>1</td>\n",
              "      <td>26.0</td>\n",
              "      <td>0</td>\n",
              "      <td>0</td>\n",
              "      <td>7.9250</td>\n",
              "      <td>0</td>\n",
              "      <td>0</td>\n",
              "      <td>0</td>\n",
              "      <td>1</td>\n",
              "    </tr>\n",
              "    <tr>\n",
              "      <th>3</th>\n",
              "      <td>1</td>\n",
              "      <td>1</td>\n",
              "      <td>35.0</td>\n",
              "      <td>1</td>\n",
              "      <td>0</td>\n",
              "      <td>53.1000</td>\n",
              "      <td>0</td>\n",
              "      <td>0</td>\n",
              "      <td>0</td>\n",
              "      <td>1</td>\n",
              "    </tr>\n",
              "    <tr>\n",
              "      <th>4</th>\n",
              "      <td>3</td>\n",
              "      <td>0</td>\n",
              "      <td>35.0</td>\n",
              "      <td>0</td>\n",
              "      <td>0</td>\n",
              "      <td>8.0500</td>\n",
              "      <td>0</td>\n",
              "      <td>0</td>\n",
              "      <td>0</td>\n",
              "      <td>1</td>\n",
              "    </tr>\n",
              "    <tr>\n",
              "      <th>...</th>\n",
              "      <td>...</td>\n",
              "      <td>...</td>\n",
              "      <td>...</td>\n",
              "      <td>...</td>\n",
              "      <td>...</td>\n",
              "      <td>...</td>\n",
              "      <td>...</td>\n",
              "      <td>...</td>\n",
              "      <td>...</td>\n",
              "      <td>...</td>\n",
              "    </tr>\n",
              "    <tr>\n",
              "      <th>1304</th>\n",
              "      <td>3</td>\n",
              "      <td>0</td>\n",
              "      <td>28.0</td>\n",
              "      <td>0</td>\n",
              "      <td>0</td>\n",
              "      <td>8.0500</td>\n",
              "      <td>0</td>\n",
              "      <td>0</td>\n",
              "      <td>0</td>\n",
              "      <td>1</td>\n",
              "    </tr>\n",
              "    <tr>\n",
              "      <th>1305</th>\n",
              "      <td>1</td>\n",
              "      <td>1</td>\n",
              "      <td>39.0</td>\n",
              "      <td>0</td>\n",
              "      <td>0</td>\n",
              "      <td>108.9000</td>\n",
              "      <td>0</td>\n",
              "      <td>1</td>\n",
              "      <td>0</td>\n",
              "      <td>0</td>\n",
              "    </tr>\n",
              "    <tr>\n",
              "      <th>1306</th>\n",
              "      <td>3</td>\n",
              "      <td>0</td>\n",
              "      <td>38.5</td>\n",
              "      <td>0</td>\n",
              "      <td>0</td>\n",
              "      <td>7.2500</td>\n",
              "      <td>0</td>\n",
              "      <td>0</td>\n",
              "      <td>0</td>\n",
              "      <td>1</td>\n",
              "    </tr>\n",
              "    <tr>\n",
              "      <th>1307</th>\n",
              "      <td>3</td>\n",
              "      <td>0</td>\n",
              "      <td>28.0</td>\n",
              "      <td>0</td>\n",
              "      <td>0</td>\n",
              "      <td>8.0500</td>\n",
              "      <td>0</td>\n",
              "      <td>0</td>\n",
              "      <td>0</td>\n",
              "      <td>1</td>\n",
              "    </tr>\n",
              "    <tr>\n",
              "      <th>1308</th>\n",
              "      <td>3</td>\n",
              "      <td>0</td>\n",
              "      <td>28.0</td>\n",
              "      <td>1</td>\n",
              "      <td>1</td>\n",
              "      <td>22.3583</td>\n",
              "      <td>0</td>\n",
              "      <td>1</td>\n",
              "      <td>0</td>\n",
              "      <td>0</td>\n",
              "    </tr>\n",
              "  </tbody>\n",
              "</table>\n",
              "<p>1309 rows × 10 columns</p>\n",
              "</div>"
            ],
            "text/plain": [
              "      Pclass  Sex   Age  SibSp  Parch      Fare  Embarked_914  Embarked_C  \\\n",
              "0          3    0  22.0      1      0    7.2500             0           0   \n",
              "1          1    1  38.0      1      0   71.2833             0           1   \n",
              "2          3    1  26.0      0      0    7.9250             0           0   \n",
              "3          1    1  35.0      1      0   53.1000             0           0   \n",
              "4          3    0  35.0      0      0    8.0500             0           0   \n",
              "...      ...  ...   ...    ...    ...       ...           ...         ...   \n",
              "1304       3    0  28.0      0      0    8.0500             0           0   \n",
              "1305       1    1  39.0      0      0  108.9000             0           1   \n",
              "1306       3    0  38.5      0      0    7.2500             0           0   \n",
              "1307       3    0  28.0      0      0    8.0500             0           0   \n",
              "1308       3    0  28.0      1      1   22.3583             0           1   \n",
              "\n",
              "      Embarked_Q  Embarked_S  \n",
              "0              0           1  \n",
              "1              0           0  \n",
              "2              0           1  \n",
              "3              0           1  \n",
              "4              0           1  \n",
              "...          ...         ...  \n",
              "1304           0           1  \n",
              "1305           0           0  \n",
              "1306           0           1  \n",
              "1307           0           1  \n",
              "1308           0           0  \n",
              "\n",
              "[1309 rows x 10 columns]"
            ]
          },
          "metadata": {
            "tags": []
          },
          "execution_count": 78
        }
      ]
    },
    {
      "cell_type": "markdown",
      "metadata": {
        "id": "Zly2TZwvaKVj",
        "colab_type": "text"
      },
      "source": [
        "<br />\n",
        "\n",
        "**Recuperando os dasets de treino e teste**\n",
        "\n",
        "Após a preparação do dataset para o modelo, vamos divir o <i>df_merged</i> em <i>train</i> e <i>test</i> novamente."
      ]
    },
    {
      "cell_type": "code",
      "metadata": {
        "id": "S98CptFSauK5",
        "colab_type": "code",
        "colab": {
          "base_uri": "https://localhost:8080/",
          "height": 50
        },
        "outputId": "75c246c4-7ead-437a-8bdf-435d49bc445f"
      },
      "source": [
        "# dividir datasets de treino e teste\n",
        "train = df_merged.iloc[:train_idx]\n",
        "test = df_merged.iloc[train_idx:]\n",
        "\n",
        "print('shape train:' + str(train.shape) + '\\nshape teste:' + str(test.shape))"
      ],
      "execution_count": 79,
      "outputs": [
        {
          "output_type": "stream",
          "text": [
            "shape train:(891, 10)\n",
            "shape teste:(418, 10)\n"
          ],
          "name": "stdout"
        }
      ]
    },
    {
      "cell_type": "markdown",
      "metadata": {
        "id": "V8ckSFdSYclC",
        "colab_type": "text"
      },
      "source": [
        "## 5. Construção do Modelo e Avaliação\n",
        "\n",
        "Com nossos datasets tratados, agora podemos partir para a construção e avaliação do modelo. Existem vários tipos de algoritmos para modelagem preditiva, mas como estamos trabalhando com um problema que envolve classificação e regressão, vamos restringir nossas escolhas aos seguintes modelos:\n",
        "- Regressão Logística \n",
        "- Decision Tree\n"
      ]
    },
    {
      "cell_type": "code",
      "metadata": {
        "id": "Tsd0YuqUf9tf",
        "colab_type": "code",
        "colab": {}
      },
      "source": [
        "# importar bibliotecas dos modelos\n",
        "from sklearn.linear_model import LogisticRegression\n",
        "from sklearn.tree import DecisionTreeClassifier\n"
      ],
      "execution_count": 80,
      "outputs": []
    },
    {
      "cell_type": "code",
      "metadata": {
        "id": "uACf4ZHghv-s",
        "colab_type": "code",
        "colab": {
          "base_uri": "https://localhost:8080/",
          "height": 34
        },
        "outputId": "d82086d4-e44e-4acf-8dcd-1e3891410c5f"
      },
      "source": [
        "# Regressão Logística\n",
        "logreg_model = LogisticRegression(solver='liblinear')\n",
        "logreg_model.fit(train, y_train)\n",
        "\n",
        "# verificar a acurácia do modelo\n",
        "acc_logReg = round(logreg_model.score(train, y_train) * 100, 2)\n",
        "print(\"Acurácia do modelo de Regressão Logística: {}\".format(acc_logReg))"
      ],
      "execution_count": 81,
      "outputs": [
        {
          "output_type": "stream",
          "text": [
            "Acurácia do modelo de Regressão Logística: 80.13\n"
          ],
          "name": "stdout"
        }
      ]
    },
    {
      "cell_type": "code",
      "metadata": {
        "id": "kriwa0L4i2Zn",
        "colab_type": "code",
        "colab": {
          "base_uri": "https://localhost:8080/",
          "height": 34
        },
        "outputId": "1ef612c7-8223-47b0-fda4-84c2417c031e"
      },
      "source": [
        "# Árvore de decisão\n",
        "tree_model = DecisionTreeClassifier(max_depth=3)\n",
        "tree_model.fit(train, y_train)\n",
        "\n",
        "# verificar a acurácia do modelo\n",
        "acc_tree = round(tree_model.score(train, y_train) * 100, 2)\n",
        "print(\"Acurácia do modelo de Árvore de Decisão: {}\".format(acc_tree))\n"
      ],
      "execution_count": 82,
      "outputs": [
        {
          "output_type": "stream",
          "text": [
            "Acurácia do modelo de Árvore de Decisão: 82.72\n"
          ],
          "name": "stdout"
        }
      ]
    },
    {
      "cell_type": "markdown",
      "metadata": {
        "id": "FEmXSRVwl_Dn",
        "colab_type": "text"
      },
      "source": [
        "Como foi possível ver visualizar, o **modelo Árvore de Decisão** aplicado foi o que obeteve **maior acurácia** entre os modelos testados. Então, iremos realizar a predição em cima dele para submissão ao Kaggle."
      ]
    },
    {
      "cell_type": "code",
      "metadata": {
        "id": "8Vxinp43nLZ2",
        "colab_type": "code",
        "colab": {
          "base_uri": "https://localhost:8080/",
          "height": 402
        },
        "outputId": "93ac83ee-277d-49c0-9046-6edba680194b"
      },
      "source": [
        "y_pred = tree_model.predict(test)\n",
        "\n",
        "submission = pd.DataFrame({\n",
        "    \"PassengerId\": passengerId,\n",
        "    \"Survived\": y_pred\n",
        "})\n",
        "\n",
        "# gerar arquivo csv\n",
        "submission.to_csv('./submission.csv', index=False)\n",
        "\n",
        "# ver arquivo de submissão no Kaggle\n",
        "submission"
      ],
      "execution_count": 83,
      "outputs": [
        {
          "output_type": "execute_result",
          "data": {
            "text/html": [
              "<div>\n",
              "<style scoped>\n",
              "    .dataframe tbody tr th:only-of-type {\n",
              "        vertical-align: middle;\n",
              "    }\n",
              "\n",
              "    .dataframe tbody tr th {\n",
              "        vertical-align: top;\n",
              "    }\n",
              "\n",
              "    .dataframe thead th {\n",
              "        text-align: right;\n",
              "    }\n",
              "</style>\n",
              "<table border=\"1\" class=\"dataframe\">\n",
              "  <thead>\n",
              "    <tr style=\"text-align: right;\">\n",
              "      <th></th>\n",
              "      <th>PassengerId</th>\n",
              "      <th>Survived</th>\n",
              "    </tr>\n",
              "  </thead>\n",
              "  <tbody>\n",
              "    <tr>\n",
              "      <th>0</th>\n",
              "      <td>892</td>\n",
              "      <td>0</td>\n",
              "    </tr>\n",
              "    <tr>\n",
              "      <th>1</th>\n",
              "      <td>893</td>\n",
              "      <td>1</td>\n",
              "    </tr>\n",
              "    <tr>\n",
              "      <th>2</th>\n",
              "      <td>894</td>\n",
              "      <td>0</td>\n",
              "    </tr>\n",
              "    <tr>\n",
              "      <th>3</th>\n",
              "      <td>895</td>\n",
              "      <td>0</td>\n",
              "    </tr>\n",
              "    <tr>\n",
              "      <th>4</th>\n",
              "      <td>896</td>\n",
              "      <td>1</td>\n",
              "    </tr>\n",
              "    <tr>\n",
              "      <th>...</th>\n",
              "      <td>...</td>\n",
              "      <td>...</td>\n",
              "    </tr>\n",
              "    <tr>\n",
              "      <th>413</th>\n",
              "      <td>1305</td>\n",
              "      <td>0</td>\n",
              "    </tr>\n",
              "    <tr>\n",
              "      <th>414</th>\n",
              "      <td>1306</td>\n",
              "      <td>1</td>\n",
              "    </tr>\n",
              "    <tr>\n",
              "      <th>415</th>\n",
              "      <td>1307</td>\n",
              "      <td>0</td>\n",
              "    </tr>\n",
              "    <tr>\n",
              "      <th>416</th>\n",
              "      <td>1308</td>\n",
              "      <td>0</td>\n",
              "    </tr>\n",
              "    <tr>\n",
              "      <th>417</th>\n",
              "      <td>1309</td>\n",
              "      <td>0</td>\n",
              "    </tr>\n",
              "  </tbody>\n",
              "</table>\n",
              "<p>418 rows × 2 columns</p>\n",
              "</div>"
            ],
            "text/plain": [
              "     PassengerId  Survived\n",
              "0            892         0\n",
              "1            893         1\n",
              "2            894         0\n",
              "3            895         0\n",
              "4            896         1\n",
              "..           ...       ...\n",
              "413         1305         0\n",
              "414         1306         1\n",
              "415         1307         0\n",
              "416         1308         0\n",
              "417         1309         0\n",
              "\n",
              "[418 rows x 2 columns]"
            ]
          },
          "metadata": {
            "tags": []
          },
          "execution_count": 83
        }
      ]
    },
    {
      "cell_type": "markdown",
      "metadata": {
        "id": "bAZ3WFf4CIDY",
        "colab_type": "text"
      },
      "source": [
        "# 6. Salvando modelo para deploy"
      ]
    },
    {
      "cell_type": "markdown",
      "metadata": {
        "id": "Fcui78GeCUOw",
        "colab_type": "text"
      },
      "source": [
        "Após a escolha e treinamento do modelo, temos que salvá-lo para que possamos realizar o deploy e para isso vamos utilizar um biblioteca chamada *joblib*."
      ]
    },
    {
      "cell_type": "code",
      "metadata": {
        "id": "cWRdCc1feNbC",
        "colab_type": "code",
        "colab": {
          "base_uri": "https://localhost:8080/",
          "height": 34
        },
        "outputId": "93ced986-2294-43e0-dc57-642effa9b000"
      },
      "source": [
        "# Salvando modelo\n",
        "from joblib import dump, load\n",
        "\n",
        "dump(tree_model, 'model.joblib')"
      ],
      "execution_count": 84,
      "outputs": [
        {
          "output_type": "execute_result",
          "data": {
            "text/plain": [
              "['model.joblib']"
            ]
          },
          "metadata": {
            "tags": []
          },
          "execution_count": 84
        }
      ]
    },
    {
      "cell_type": "code",
      "metadata": {
        "id": "dieM4J07fIl0",
        "colab_type": "code",
        "colab": {
          "base_uri": "https://localhost:8080/",
          "height": 34
        },
        "outputId": "177d486d-7c80-479c-f8c4-2a282d4cbe5f"
      },
      "source": [
        "# Salvando os nomes da colunas\n",
        "features = train.columns.values\n",
        "\n",
        "dump(features, 'features.names')"
      ],
      "execution_count": 85,
      "outputs": [
        {
          "output_type": "execute_result",
          "data": {
            "text/plain": [
              "['features.names']"
            ]
          },
          "metadata": {
            "tags": []
          },
          "execution_count": 85
        }
      ]
    },
    {
      "cell_type": "markdown",
      "metadata": {
        "id": "BEAZMF5SDVA0",
        "colab_type": "text"
      },
      "source": [
        "Após salvarmos o modelo, ele servirá para deploy e utilização atráves de um API feita em Flask. \n",
        "O deploy foi realizado na plataforma [Heroku](https://heroku.com) e seu código fonte está disponível\n",
        "[aqui](https://github.com/byronkamal/titanic-survival-predict)."
      ]
    }
  ]
}